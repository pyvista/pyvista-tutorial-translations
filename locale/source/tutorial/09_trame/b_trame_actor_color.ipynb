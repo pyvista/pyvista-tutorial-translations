{
  "cells": [
    {
      "cell_type": "code",
      "execution_count": null,
      "metadata": {
        "collapsed": false
      },
      "outputs": [],
      "source": [
        "%matplotlib inline\nfrom pyvista import set_plot_theme\nset_plot_theme(\"document\")"
      ]
    },
    {
      "cell_type": "markdown",
      "metadata": {},
      "source": [
        "Control the Color of an Actor\n=============================\n\nExtending our simple example to have a dropdown menu to control the\ncolor of the actor.\n"
      ]
    },
    {
      "cell_type": "code",
      "execution_count": null,
      "metadata": {
        "collapsed": false
      },
      "outputs": [],
      "source": [
        "import pyvista as pv\nfrom pyvista.plotting.colors import hexcolors\nfrom pyvista.trame.ui import plotter_ui\nfrom trame.app import get_server\nfrom trame.ui.vuetify import SinglePageLayout\nfrom trame.widgets import vuetify\n\npv.OFF_SCREEN = True\n\nserver = get_server()\nstate, ctrl = server.state, server.controller\n\nmesh = pv.Cone()\n\npl = pv.Plotter()\nactor = pl.add_mesh(mesh, color='seagreen')\n\n\n@state.change(\"color\")\ndef color(color=\"seagreen\", **kwargs):\n    actor.prop.color = color\n    ctrl.view_update()\n\n\nwith SinglePageLayout(server) as layout:\n    with layout.toolbar:\n        vuetify.VSpacer()\n        vuetify.VSelect(\n            label=\"Color\",\n            v_model=(\"color\", \"seagreen\"),\n            items=(\"array_list\", list(hexcolors.keys())),\n            hide_details=True,\n            dense=True,\n            outlined=True,\n            classes=\"pt-1 ml-2\",\n            style=\"max-width: 250px\",\n        )\n\n    with layout.content:\n        with vuetify.VContainer(\n            fluid=True,\n            classes=\"pa-0 fill-height\",\n        ):\n            # Use PyVista UI template for Plotters\n            view = plotter_ui(pl, default_server_rendering=False)\n            ctrl.view_update = view.update\n\nserver.start()"
      ]
    }
  ],
  "metadata": {
    "kernelspec": {
      "display_name": "Python 3",
      "language": "python",
      "name": "python3"
    },
    "language_info": {
      "codemirror_mode": {
        "name": "ipython",
        "version": 3
      },
      "file_extension": ".py",
      "mimetype": "text/x-python",
      "name": "python",
      "nbconvert_exporter": "python",
      "pygments_lexer": "ipython3",
      "version": "3.9.18"
    }
  },
  "nbformat": 4,
  "nbformat_minor": 0
}