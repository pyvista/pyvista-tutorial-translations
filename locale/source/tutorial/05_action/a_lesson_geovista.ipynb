{
  "cells": [
    {
      "cell_type": "code",
      "execution_count": null,
      "metadata": {
        "collapsed": false
      },
      "outputs": [],
      "source": [
        "import subprocess\nimport sys\n\nif \"google.colab\" in sys.modules:\n    subprocess.run(\"apt-get update\", shell=True, check=True)\n    subprocess.run(\"apt-get install -qq xvfb libgl1-mesa-glx\", shell=True, check=True)\n    subprocess.run(\"pip install pyvista[all] -qq\", shell=True, check=True)\n\n    import pyvista as pv\n\n    # Seems that only static plotting is supported by colab at the moment\n    pv.global_theme.jupyter_backend = \"static\"\n    pv.global_theme.notebook = True\n    pv.start_xvfb()\nelse:\n    %matplotlib inline\n    from pyvista import set_plot_theme\n\n    set_plot_theme(\"document\")"
      ]
    },
    {
      "cell_type": "markdown",
      "metadata": {},
      "source": [
        "Using GeoVista\n==============\n\nThis is provided by [\\@bjlittle](https://github.com/bjlittle) in [this\ndiscussion](https://github.com/bjlittle/geovista/discussions/343) and\nmodified by [\\@tkoyama010](https://github.com/tkoyama010) .\n"
      ]
    },
    {
      "cell_type": "markdown",
      "metadata": {},
      "source": [
        "You may think that PyVista is a little too abstract for what you want to\ndo. Therefore, we will introduce GeoVista, which was developed as a\ngateway to cartographic capability.\n\nGeoVista is a very good external example of using PyVista in a more\nconcrete use case.\n"
      ]
    },
    {
      "cell_type": "code",
      "execution_count": null,
      "metadata": {
        "collapsed": false
      },
      "outputs": [],
      "source": [
        "import subprocess\nimport sys\n\nif \"google.colab\" in sys.modules:\n    subprocess.run(\"pip install geovista\", shell=True, check=True)\nelse:\n    import geovista.theme\n\nimport geovista as gv\nimport pyvista as pv"
      ]
    },
    {
      "cell_type": "markdown",
      "metadata": {},
      "source": [
        "::: {.note}\n::: {.admonition-title}\nNote\n:::\n\n**Motivation of GeoVista**\n\nThe goal of GeoVista is simple; to complement PyVista with a convenient\ncartographic capability.\n\nIn this regard, from a design perspective we aim to keep GeoVista as\npure to PyVista as possible i.e., minimise specialisation as far as\npractically possible in order to maximise native compatibility within\nthe PyVista and VTK ecosystems.\n\nWe intend GeoVista to be a cartographic gateway into the powerful world\nof PyVista, and all that it offers.\n\nGeoVista is intentionally agnostic to packages such as geopandas, iris,\nxarray et al, which specialise in preparing your spatial data for\nvisualisation. Rather, we delegate that responsibility and choice of\ntool to you the user, as we want GeoVista to remain as flexible and\nopen-ended as possible to the entire Scientific Python community.\n\nSimply put, \\\"GeoVista is to PyVista\\\", as \\\"Cartopy is to Matplotlib\\\".\n:::\n"
      ]
    },
    {
      "cell_type": "markdown",
      "metadata": {},
      "source": [
        "::: {.note}\n::: {.admonition-title}\nNote\n:::\n\n**Plotting Theme**\n\nGeoVista defines its own plotting theme in [geovista.theme]{.title-ref}.\nPyVista allows you to set global and local plotting themes to easily set\n(learn more in [Control Global and Local Plotting\nThemes](https://docs.pyvista.org/version/stable/examples/02-plot/themes.html)\n).\n:::\n"
      ]
    },
    {
      "cell_type": "markdown",
      "metadata": {},
      "source": [
        "At the [Met Office](https://www.metoffice.gov.uk/) , they are moving to\nan unstructured cube-sphere mesh which is a cube projected out onto a\nsphere i.e., there are six panels on the sphere. Each cube-sphere is\ndefined by the number of \\\"cells squared\\\" within each panel e.g., the\nfollowing example is a C48 cube-sphere, so there are 6 \\* 48 \\* 48\ncells.\n\nGeoVista has samples for it.\n"
      ]
    },
    {
      "cell_type": "code",
      "execution_count": null,
      "metadata": {
        "collapsed": false
      },
      "outputs": [],
      "source": [
        "help(gv.samples.lfric)"
      ]
    },
    {
      "cell_type": "code",
      "execution_count": null,
      "metadata": {
        "collapsed": false
      },
      "outputs": [],
      "source": [
        "c48 = gv.samples.lfric(resolution=\"c48\")"
      ]
    },
    {
      "cell_type": "markdown",
      "metadata": {},
      "source": [
        "::: {.note}\n::: {.admonition-title}\nNote\n:::\n\n**LFRic - a modelling system fit for future computers**\n\nIf you are interested in LFRic, please refer to [LFRic - a modelling\nsystem fit for future\ncomputers](https://www.metoffice.gov.uk/research/approach/modelling-systems/lfric)\n.\n:::\n"
      ]
    },
    {
      "cell_type": "markdown",
      "metadata": {},
      "source": [
        "Since the [c48]{.title-ref} is defined as PolyData in PyVista, it can be\ndrawn using PyVista\\'s plot method.\n"
      ]
    },
    {
      "cell_type": "code",
      "execution_count": null,
      "metadata": {
        "collapsed": false
      },
      "outputs": [],
      "source": [
        "c48.plot(show_edges=True)"
      ]
    },
    {
      "cell_type": "markdown",
      "metadata": {},
      "source": [
        "Here\\'s a sample C48 cube-sphere populated with Sea Surface Temperature\ndata. In this data, cell data from PyVista\\'s PolyData object is used as\ntemperature data:\n"
      ]
    },
    {
      "cell_type": "code",
      "execution_count": null,
      "metadata": {
        "collapsed": false
      },
      "outputs": [],
      "source": [
        "help(gv.samples.lfric_sst)"
      ]
    },
    {
      "cell_type": "code",
      "execution_count": null,
      "metadata": {
        "collapsed": false
      },
      "outputs": [],
      "source": [
        "c48_sst = gv.samples.lfric_sst()\nc48_sst.plot(show_edges=True)"
      ]
    },
    {
      "cell_type": "markdown",
      "metadata": {},
      "source": [
        "Note that, the land masses are masked.\n"
      ]
    },
    {
      "cell_type": "markdown",
      "metadata": {},
      "source": [
        "There is a convenience within [geovista.geodesic]{.title-ref} that\ncreates a [geovista.geodesic.BBox]{.title-ref} instance for any 1 of the\n6 cube-sphere panels i.e., [geovista.geodesic.panel]{.title-ref}\n"
      ]
    },
    {
      "cell_type": "code",
      "execution_count": null,
      "metadata": {
        "collapsed": false
      },
      "outputs": [],
      "source": [
        "from geovista.geodesic import panel\n\nhelp(panel)"
      ]
    },
    {
      "cell_type": "code",
      "execution_count": null,
      "metadata": {
        "collapsed": false
      },
      "outputs": [],
      "source": [
        "bbox = panel(\"americas\")\nbbox.mesh.plot()"
      ]
    },
    {
      "cell_type": "markdown",
      "metadata": {},
      "source": [
        "Note that, this bounding box (bbox) is constructed from geodesic lines\ni.e., great circles, and is a 3D manifold. As such, we can then use it\nto extract points/cells from any underlying mesh. Before doing that,\nfirst let\\'s render the bounding box and the mesh together so that we\ncan see their relationship to one another. Note that, our bbox instance\nis indeed covering the correct panel of the cube-sphere.\n"
      ]
    },
    {
      "cell_type": "code",
      "execution_count": null,
      "metadata": {
        "collapsed": false
      },
      "outputs": [],
      "source": [
        "plotter = pv.Plotter()\nplotter.add_mesh(c48_sst, show_edges=True)\nplotter.add_mesh(bbox.mesh)\nplotter.add_axes()\nplotter.view_yz()\nplotter.show()"
      ]
    },
    {
      "cell_type": "markdown",
      "metadata": {},
      "source": [
        "As a fun exercise, you could play with opacity on the bbox.mesh to see\nthrough the manifold to the underlying cube-sphere surface, or turn on\nthe gridlines of the bbox etc\n"
      ]
    },
    {
      "cell_type": "code",
      "execution_count": null,
      "metadata": {
        "collapsed": false
      },
      "outputs": [],
      "source": [
        "plotter = pv.Plotter()\nplotter.add_mesh(c48_sst, show_edges=True)\nplotter.add_mesh(bbox.boundary(), color=\"green\", line_width=5)\nplotter.add_axes()\nplotter.view_xz()\nplotter.show()"
      ]
    },
    {
      "cell_type": "markdown",
      "metadata": {},
      "source": [
        "Let\\'s now use the bounding box to extract the mesh that it encloses:\n"
      ]
    },
    {
      "cell_type": "code",
      "execution_count": null,
      "metadata": {
        "collapsed": false
      },
      "outputs": [],
      "source": [
        "region = bbox.enclosed(c48_sst)"
      ]
    },
    {
      "cell_type": "markdown",
      "metadata": {},
      "source": [
        "[region]{.title-ref} is defined as PolyData of PyVista.\n"
      ]
    },
    {
      "cell_type": "code",
      "execution_count": null,
      "metadata": {
        "collapsed": false
      },
      "outputs": [],
      "source": [
        "help(region)"
      ]
    },
    {
      "cell_type": "code",
      "execution_count": null,
      "metadata": {
        "collapsed": false
      },
      "outputs": [],
      "source": [
        "plotter = pv.Plotter()\nplotter.add_mesh(region, show_edges=True)\nplotter.add_axes()\nplotter.view_xz()\nplotter.show()"
      ]
    },
    {
      "cell_type": "markdown",
      "metadata": {},
      "source": [
        "Let\\'s check what kind of array does [region]{.title-ref} have.\n"
      ]
    },
    {
      "cell_type": "code",
      "execution_count": null,
      "metadata": {
        "collapsed": false
      },
      "outputs": [],
      "source": [
        "print(region.array_names)"
      ]
    },
    {
      "cell_type": "markdown",
      "metadata": {},
      "source": [
        "You could perhaps then play with the [preference]{.title-ref} kwarg of\nthe [bbox.enclosed]{.title-ref} method to see the impact on the end\nresult.\n"
      ]
    },
    {
      "cell_type": "markdown",
      "metadata": {},
      "source": [
        "However, let\\'s [geo-locate]{.title-ref} the region by also rendering a\ntexture mapped base layer in addition to some coastlines:\n"
      ]
    },
    {
      "cell_type": "code",
      "execution_count": null,
      "metadata": {
        "collapsed": false
      },
      "outputs": [],
      "source": [
        "plotter = gv.GeoPlotter()\nplotter.add_mesh(region, show_edges=True)\nplotter.add_coastlines()\nplotter.add_base_layer(texture=gv.natural_earth_hypsometric())\nplotter.view_xz()\nplotter.show_axes()\nplotter.show()"
      ]
    },
    {
      "cell_type": "markdown",
      "metadata": {},
      "source": [
        "GeoVista has its own [Plotter]{.title-ref} class,\n[GeoPlotter]{.title-ref}. It is a customized class that inherits from\nPyVista\\'s [Plotter]{.title-ref} class and provides practical methods\nfor geoscience such as [add\\_coastlines]{.title-ref} and\n[add\\_base\\_layer]{.title-ref}.\n"
      ]
    },
    {
      "cell_type": "code",
      "execution_count": null,
      "metadata": {
        "collapsed": false
      },
      "outputs": [],
      "source": [
        "help(gv.GeoPlotter)"
      ]
    },
    {
      "cell_type": "markdown",
      "metadata": {},
      "source": [
        "Also, as we\\'re not so interested in the land mask, let\\'s threshold\nthat out and re-spin the render. To threshold the region and make\n[sea\\_region]{.title-ref} we can use [threshold]{.title-ref} method of\nPyVista.\n"
      ]
    },
    {
      "cell_type": "code",
      "execution_count": null,
      "metadata": {
        "collapsed": false
      },
      "outputs": [],
      "source": [
        "sea_region = region.threshold(scalars='Surface Temperature')"
      ]
    },
    {
      "cell_type": "code",
      "execution_count": null,
      "metadata": {
        "collapsed": false
      },
      "outputs": [],
      "source": [
        "help(region.threshold)"
      ]
    },
    {
      "cell_type": "code",
      "execution_count": null,
      "metadata": {
        "collapsed": false
      },
      "outputs": [],
      "source": [
        "plotter = gv.GeoPlotter()\nplotter.add_mesh(sea_region, show_edges=True)\nplotter.add_coastlines()\nplotter.add_base_layer(texture=gv.natural_earth_hypsometric())\nplotter.view_xz()\nplotter.show_axes()\nplotter.show()"
      ]
    },
    {
      "cell_type": "markdown",
      "metadata": {},
      "source": [
        "Since we\\'re here\\... let\\'s transform the sea\\_region to a Robinson\nprojection:\n"
      ]
    },
    {
      "cell_type": "code",
      "execution_count": null,
      "metadata": {
        "collapsed": false
      },
      "outputs": [],
      "source": [
        "plotter = gv.GeoPlotter(crs=\"+proj=robin lon_0=-90\")\nplotter.add_mesh(sea_region, show_edges=True)\nplotter.add_coastlines()\nplotter.add_base_layer(texture=gv.natural_earth_hypsometric())\nplotter.view_xy()\nplotter.show_axes()\nplotter.show()"
      ]
    },
    {
      "cell_type": "markdown",
      "metadata": {},
      "source": [
        "It\\'s also easily possible to get the inverted result i.e., the surface\nof the mesh not enclosed by the bbox manifold:\n"
      ]
    },
    {
      "cell_type": "code",
      "execution_count": null,
      "metadata": {
        "collapsed": false
      },
      "outputs": [],
      "source": [
        "outside = bbox.enclosed(c48_sst, outside=True)\n\nplotter = pv.Plotter()\nplotter.add_mesh(outside, show_edges=True)\nplotter.add_axes()\nplotter.show()"
      ]
    },
    {
      "cell_type": "markdown",
      "metadata": {},
      "source": [
        "Akin to before, let\\'s render this again, but with a base layer\nunderneath:\n"
      ]
    },
    {
      "cell_type": "code",
      "execution_count": null,
      "metadata": {
        "collapsed": false
      },
      "outputs": [],
      "source": [
        "plotter = gv.GeoPlotter()\nplotter.add_mesh(outside, show_edges=True)\nplotter.add_coastlines()\nplotter.add_base_layer(texture=gv.natural_earth_1())\nplotter.view_xz()\nplotter.show_axes()\nplotter.show()"
      ]
    },
    {
      "cell_type": "markdown",
      "metadata": {},
      "source": [
        "It\\'s not quite clear what\\'s going on here, although playing with the\nrender interactively helps, but let\\'s transform the mesh to the\nMollweider projection to help clarify matters:\n"
      ]
    },
    {
      "cell_type": "code",
      "execution_count": null,
      "metadata": {
        "collapsed": false
      },
      "outputs": [],
      "source": [
        "plotter = gv.GeoPlotter(crs=\"+proj=moll lon_0=-90\")\nplotter.add_mesh(outside, show_edges=True)\nplotter.add_coastlines()\nplotter.add_base_layer(texture=gv.natural_earth_1())\nplotter.view_xy()\nplotter.show_axes()\nplotter.show()"
      ]
    },
    {
      "cell_type": "markdown",
      "metadata": {},
      "source": [
        "And again, let\\'s remove the land mask so that we can see more of the\ntexture mapped base layer:\n"
      ]
    },
    {
      "cell_type": "code",
      "execution_count": null,
      "metadata": {
        "collapsed": false
      },
      "outputs": [],
      "source": [
        "sea_outside = outside.threshold()\n\nplotter = gv.GeoPlotter(crs=\"+proj=moll lon_0=-90\")\nplotter.add_mesh(sea_outside, show_edges=True)\nplotter.add_coastlines()\nplotter.add_base_layer(texture=gv.natural_earth_1())\nplotter.view_xy()\nplotter.show_axes()\nplotter.show()"
      ]
    },
    {
      "cell_type": "markdown",
      "metadata": {},
      "source": [
        "Also, explore the BBox class to create custom bounding box instances,\nand there is also the geovista.geodesic.wedge, a convenience function\nakin to the [geovista.geodesic.panel]{.title-ref}. Plus you can easily\nrender geodesic lines i.e., great circles, with geovista.geodesic.line.\n\nThe point here is that this is just the first step. GeoVista is aiming\nto provide a richer suite of such primitives to extract regions in\nsimilar ways. But the capability showcased by\n[geovista.geodesic]{.title-ref} hints at the direction of where I\\'m\ntaking geovista. The other point to make is that thanks to [pyvista\\`and\n\\`vtk]{.title-ref} the extraction operation is pretty darn fast as\nopposed to other traditional approaches (perhaps I should garner metrics\nto back that up!)\n"
      ]
    },
    {
      "cell_type": "markdown",
      "metadata": {},
      "source": [
        "So far we\\'ve demonstrated GeoVista\\'s ability to cope with unstructured\ndata. Now let\\'s plot a curvilinear mesh using Met Office Unified Model\n(UM) ORCA2 Sea Water Potential Temperature data, with 10m Natural Earth\ncoastlines and a 1:50m Natural Earth I base layer.\n"
      ]
    },
    {
      "cell_type": "code",
      "execution_count": null,
      "metadata": {
        "collapsed": false
      },
      "outputs": [],
      "source": [
        "import geovista as gv\nfrom geovista.pantry import um_orca2\nimport geovista.theme\n\n# Load sample data.\nsample = um_orca2()\nsample"
      ]
    },
    {
      "cell_type": "markdown",
      "metadata": {},
      "source": [
        "Create the mesh from the sample data.\n"
      ]
    },
    {
      "cell_type": "code",
      "execution_count": null,
      "metadata": {
        "collapsed": false
      },
      "outputs": [],
      "source": [
        "mesh = gv.Transform.from_2d(sample.lons, sample.lats, data=sample.data)"
      ]
    },
    {
      "cell_type": "markdown",
      "metadata": {},
      "source": [
        "Remove cells from the mesh with NaN values.\n"
      ]
    },
    {
      "cell_type": "code",
      "execution_count": null,
      "metadata": {
        "collapsed": false
      },
      "outputs": [],
      "source": [
        "mesh = mesh.threshold()"
      ]
    },
    {
      "cell_type": "markdown",
      "metadata": {},
      "source": [
        "Plot the mesh.\n"
      ]
    },
    {
      "cell_type": "code",
      "execution_count": null,
      "metadata": {
        "collapsed": false
      },
      "outputs": [],
      "source": [
        "plotter = gv.GeoPlotter()\nsargs = {\"title\": f\"{sample.name} / {sample.units}\"}\nplotter.add_mesh(mesh, show_edges=True, scalar_bar_args=sargs)\nplotter.add_base_layer(texture=gv.natural_earth_1())\nplotter.add_coastlines(resolution=\"10m\")\nplotter.view_xy()\nplotter.add_axes()\nplotter.show()"
      ]
    },
    {
      "cell_type": "markdown",
      "metadata": {},
      "source": [
        "::: {.important}\n::: {.admonition-title}\nImportant\n:::\n\n**Experimental**\n\nGeoVista is still in the experimental stages. They would love your\nfeedback, but as immature packages their API, documentation, test\ncoverage and CI are still \\'under construction\\'.\n:::\n"
      ]
    },
    {
      "cell_type": "markdown",
      "metadata": {},
      "source": [
        "Whilst you\\'re here, why not hop on over to the [pyvista-xarray\nproject](https://github.com/pyvista/pyvista-xarray) and check it out!\n\nxarray DataArray accessors for PyVista to visualize datasets in 3D\n\nYou must import [pvxarray]{.title-ref} in order to register the\nDataArray accessor with xarray. After which, a pyvista namespace of\naccessors will be available.\n"
      ]
    },
    {
      "cell_type": "code",
      "execution_count": null,
      "metadata": {
        "collapsed": false
      },
      "outputs": [],
      "source": [
        "import pvxarray  # noqa\nimport xarray as xr"
      ]
    },
    {
      "cell_type": "markdown",
      "metadata": {},
      "source": [
        "Load mean sea surface temperature dataset\n"
      ]
    },
    {
      "cell_type": "code",
      "execution_count": null,
      "metadata": {
        "collapsed": false
      },
      "outputs": [],
      "source": [
        "ds = xr.open_dataset(\"sst.mnmean.nc\", engine=\"netcdf4\")"
      ]
    },
    {
      "cell_type": "markdown",
      "metadata": {},
      "source": [
        "Plot in 3D\n"
      ]
    },
    {
      "cell_type": "code",
      "execution_count": null,
      "metadata": {
        "collapsed": false
      },
      "outputs": [],
      "source": [
        "ds.sst[0].pyvista.plot(x=\"lon\", y=\"lat\", show_edges=True, cpos=\"xy\")"
      ]
    },
    {
      "cell_type": "markdown",
      "metadata": {},
      "source": [
        "Or grab the mesh object for use with PyVista and GeoVista.\n"
      ]
    },
    {
      "cell_type": "code",
      "execution_count": null,
      "metadata": {
        "collapsed": false
      },
      "outputs": [],
      "source": [
        "mesh = ds.sst[0].pyvista.mesh(x=\"lon\", y=\"lat\")\n\nplotter = gv.GeoPlotter()\nplotter.add_mesh(mesh, show_edges=True)\nplotter.add_coastlines()\nplotter.add_base_layer(texture=gv.natural_earth_hypsometric())\nplotter.view_xz()\nplotter.show_axes()\nplotter.show(cpos=\"xy\")"
      ]
    },
    {
      "cell_type": "markdown",
      "metadata": {},
      "source": [
        "::: {.note}\n::: {.admonition-title}\nNote\n:::\n\nThis is inspired by [Xarray\nFundamentals](https://tutorial.xarray.dev/workshops/online-tutorial-series/01_xarray_fundamentals.html)\nin Xarray Tutorial.\n:::\n\n[![image](https://zenodo.org/badge/doi/10.5281/zenodo.598201.svg)](https://doi.org/10.5281/zenodo.598201)\n"
      ]
    },
    {
      "cell_type": "markdown",
      "metadata": {},
      "source": [
        "<center>\n  <a target=\"_blank\" href=\"https://colab.research.google.com/github/pyvista/pyvista-tutorial/blob/gh-pages/notebooks/tutorial/05_action/a_lesson_geovista.ipynb\">\n    <img src=\"https://colab.research.google.com/assets/colab-badge.svg\" alt=\"Open In Colab\"/ width=\"150px\">\n  </a>\n</center>\n"
      ]
    }
  ],
  "metadata": {
    "kernelspec": {
      "display_name": "Python 3",
      "language": "python",
      "name": "python3"
    },
    "language_info": {
      "codemirror_mode": {
        "name": "ipython",
        "version": 3
      },
      "file_extension": ".py",
      "mimetype": "text/x-python",
      "name": "python",
      "nbconvert_exporter": "python",
      "pygments_lexer": "ipython3",
      "version": "3.9.18"
    }
  },
  "nbformat": 4,
  "nbformat_minor": 0
}